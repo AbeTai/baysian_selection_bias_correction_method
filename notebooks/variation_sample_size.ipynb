{
 "cells": [
  {
   "cell_type": "code",
   "execution_count": 1,
   "metadata": {},
   "outputs": [],
   "source": [
    "import pandas as pd\n",
    "import numpy as np\n",
    "import matplotlib.pyplot as plt\n",
    "from scipy import stats\n",
    "from tqdm import tqdm\n",
    "from scipy.stats import entropy\n",
    "from sklearn.linear_model import LogisticRegression\n",
    "from polyagamma import random_polyagamma\n",
    "from utils.generate import GenerateData_binomial\n",
    "from utils.metrics import KLD\n",
    "from models.proposed_method import proposed_method_binomial\n",
    "from models.compared_methods import compared_methods"
   ]
  },
  {
   "cell_type": "code",
   "execution_count": 2,
   "metadata": {},
   "outputs": [],
   "source": [
    "import warnings\n",
    "warnings.filterwarnings('ignore')"
   ]
  },
  {
   "cell_type": "markdown",
   "metadata": {},
   "source": [
    "# バイアスアルゴリズム：ステップ"
   ]
  },
  {
   "cell_type": "code",
   "execution_count": 10,
   "metadata": {},
   "outputs": [
    {
     "name": "stderr",
     "output_type": "stream",
     "text": [
      "100it [01:23,  1.20it/s]\n"
     ]
    },
    {
     "name": "stdout",
     "output_type": "stream",
     "text": [
      "実験条件:threshfold=2\n",
      "サンプル平均P: 0.12504494237747257\n",
      "最尤推定P: 0.0029707256307093177\n",
      "提案手法P: 0.0018090458557990796\n"
     ]
    },
    {
     "name": "stderr",
     "output_type": "stream",
     "text": [
      "100it [02:37,  1.58s/it]\n"
     ]
    },
    {
     "name": "stdout",
     "output_type": "stream",
     "text": [
      "実験条件:threshfold=2\n",
      "サンプル平均P: 0.11829229706469645\n",
      "最尤推定P: 0.00257422572853674\n",
      "提案手法P: 0.0010050376208862633\n"
     ]
    },
    {
     "name": "stderr",
     "output_type": "stream",
     "text": [
      "100it [03:41,  2.21s/it]\n"
     ]
    },
    {
     "name": "stdout",
     "output_type": "stream",
     "text": [
      "実験条件:threshfold=2\n",
      "サンプル平均P: 0.1158319184189112\n",
      "最尤推定P: 0.002371198921533817\n",
      "提案手法P: 0.0006054941123216296\n"
     ]
    },
    {
     "name": "stderr",
     "output_type": "stream",
     "text": [
      "100it [07:30,  4.51s/it]\n"
     ]
    },
    {
     "name": "stdout",
     "output_type": "stream",
     "text": [
      "実験条件:threshfold=2\n",
      "サンプル平均P: 0.11656488489398249\n",
      "最尤推定P: 0.0023143859464030926\n",
      "提案手法P: 0.0004282899662458195\n"
     ]
    },
    {
     "name": "stderr",
     "output_type": "stream",
     "text": [
      "100it [11:26,  6.87s/it]\n"
     ]
    },
    {
     "name": "stdout",
     "output_type": "stream",
     "text": [
      "実験条件:threshfold=2\n",
      "サンプル平均P: 0.11517425888238624\n",
      "最尤推定P: 0.0022865745540590556\n",
      "提案手法P: 0.0005219329172309528\n"
     ]
    },
    {
     "name": "stderr",
     "output_type": "stream",
     "text": [
      "100it [16:47, 10.07s/it]\n"
     ]
    },
    {
     "name": "stdout",
     "output_type": "stream",
     "text": [
      "実験条件:threshfold=2\n",
      "サンプル平均P: 0.11436125008997801\n",
      "最尤推定P: 0.0024507005867620713\n",
      "提案手法P: 0.0003282251897636301\n"
     ]
    },
    {
     "name": "stderr",
     "output_type": "stream",
     "text": [
      "100it [22:22, 13.42s/it]\n"
     ]
    },
    {
     "name": "stdout",
     "output_type": "stream",
     "text": [
      "実験条件:threshfold=2\n",
      "サンプル平均P: 0.11719544540256026\n",
      "最尤推定P: 0.002541358715949539\n",
      "提案手法P: 0.0002909268506534923\n"
     ]
    },
    {
     "name": "stderr",
     "output_type": "stream",
     "text": [
      "100it [28:09, 16.90s/it]\n"
     ]
    },
    {
     "name": "stdout",
     "output_type": "stream",
     "text": [
      "実験条件:threshfold=2\n",
      "サンプル平均P: 0.11397402896061574\n",
      "最尤推定P: 0.0024185326088020363\n",
      "提案手法P: 0.00023415414562099278\n"
     ]
    },
    {
     "name": "stderr",
     "output_type": "stream",
     "text": [
      "100it [34:53, 20.94s/it]\n"
     ]
    },
    {
     "name": "stdout",
     "output_type": "stream",
     "text": [
      "実験条件:threshfold=2\n",
      "サンプル平均P: 0.11723477640855334\n",
      "最尤推定P: 0.002258707611127584\n",
      "提案手法P: 0.00025822834437197017\n"
     ]
    },
    {
     "name": "stderr",
     "output_type": "stream",
     "text": [
      "100it [45:36, 27.36s/it]"
     ]
    },
    {
     "name": "stdout",
     "output_type": "stream",
     "text": [
      "実験条件:threshfold=2\n",
      "サンプル平均P: 0.11693449418257484\n",
      "最尤推定P: 0.0024008858885123806\n",
      "提案手法P: 0.0002542331837685818\n"
     ]
    },
    {
     "name": "stderr",
     "output_type": "stream",
     "text": [
      "\n"
     ]
    },
    {
     "data": {
      "text/plain": [
       "[[np.float64(0.12504494237747257),\n",
       "  np.float64(0.0029707256307093177),\n",
       "  np.float64(0.0018090458557990796)],\n",
       " [np.float64(0.11829229706469645),\n",
       "  np.float64(0.00257422572853674),\n",
       "  np.float64(0.0010050376208862633)],\n",
       " [np.float64(0.1158319184189112),\n",
       "  np.float64(0.002371198921533817),\n",
       "  np.float64(0.0006054941123216296)],\n",
       " [np.float64(0.11656488489398249),\n",
       "  np.float64(0.0023143859464030926),\n",
       "  np.float64(0.0004282899662458195)],\n",
       " [np.float64(0.11517425888238624),\n",
       "  np.float64(0.0022865745540590556),\n",
       "  np.float64(0.0005219329172309528)],\n",
       " [np.float64(0.11436125008997801),\n",
       "  np.float64(0.0024507005867620713),\n",
       "  np.float64(0.0003282251897636301)],\n",
       " [np.float64(0.11719544540256026),\n",
       "  np.float64(0.002541358715949539),\n",
       "  np.float64(0.0002909268506534923)],\n",
       " [np.float64(0.11397402896061574),\n",
       "  np.float64(0.0024185326088020363),\n",
       "  np.float64(0.00023415414562099278)],\n",
       " [np.float64(0.11723477640855334),\n",
       "  np.float64(0.002258707611127584),\n",
       "  np.float64(0.00025822834437197017)],\n",
       " [np.float64(0.11693449418257484),\n",
       "  np.float64(0.0024008858885123806),\n",
       "  np.float64(0.0002542331837685818)]]"
      ]
     },
     "execution_count": 10,
     "metadata": {},
     "output_type": "execute_result"
    }
   ],
   "source": [
    "Ex_num = 100 # パラメータを生成する回数\n",
    "\n",
    "# 特徴量の数を設定\n",
    "n_features = 1\n",
    "\n",
    "# 特徴量の平均と標準偏差を設定\n",
    "X_mu = [1]\n",
    "X_sigma = [3]\n",
    "\n",
    "# パラメータの平均と標準偏差を設定\n",
    "beta_mu = [-2,4]\n",
    "beta_sigma = [0.5,0.5]\n",
    "\n",
    "threshfold = 2\n",
    "\n",
    "sample_size_list = np.linspace(100,1000,10).astype(int)\n",
    "\n",
    "KL_list = [] # 結果格納用 (threshfoldの数, 3)→ 標本平均, 比較手法，提案手法\n",
    "\n",
    "for sample_size in sample_size_list:\n",
    "\n",
    "    KL_list_proposed_by_condition = []\n",
    "    KL_list_sample_mean_by_condition = []\n",
    "    KL_list_ML_by_condition = []\n",
    "\n",
    "    trial = 0\n",
    "    with tqdm() as pbar:\n",
    "        while trial < Ex_num: # パラメータによるモンテカルロ平均（ベイズ最適な推定量）\n",
    "            # クラスをインスタンス化\n",
    "            generator = GenerateData_binomial(\n",
    "                n_features=n_features,\n",
    "                X_mu_list=X_mu,\n",
    "                X_sigma_list=X_sigma,\n",
    "                beta_mu=beta_mu, # beta_mu_matrixをbeta_muに変更\n",
    "                beta_sigma=beta_sigma # beta_sigma_matrixをbeta_sigmaに変更\n",
    "            )\n",
    "\n",
    "            # データを生成\n",
    "            X, y = generator.generate_non_bias_data()\n",
    "            X_bias, y_bias = generator.generate_bias_data(n_samples=sample_size, X_features_bias= 1 , threshfold= threshfold,sample_type=\"threshfold_step\")\n",
    "\n",
    "            if (y_bias.mean() != 1) & (y_bias.mean() != 0): # 0と1両方あるサンプルが生成できた場合のみ計算を実行する\n",
    "\n",
    "                b_0 = np.array([0.001, 0.001])\n",
    "                B_0 = np.array([np.diag([100, 100])]) # B_0の形状を変更\n",
    "\n",
    "                burn = 2000\n",
    "                draw = 5000\n",
    "\n",
    "                # proposed_method_binomialのインスタンスを作成\n",
    "                method = proposed_method_binomial(X_bias, y_bias, b_0, B_0, X_mu, X_sigma, burn, draw) # proposed_methodをproposed_method_binomialに変更\n",
    "                compared_method = compared_methods(X_bias, y_bias, X_mu, X_sigma)\n",
    "\n",
    "                # sample_betaメソッドを実行\n",
    "                beta_posterior = method.sample_beta()\n",
    "\n",
    "                P_true = y.mean()\n",
    "                P_sample_mean = y_bias.mean()\n",
    "                P_ML = compared_method.maximum_likelihood(draw=draw)\n",
    "                P_proposed = method.estimate()\n",
    "\n",
    "                KL_list_sample_mean_by_condition.append(KLD(P_true, P_sample_mean))\n",
    "                KL_list_ML_by_condition.append(KLD(P_true, P_ML))\n",
    "                KL_list_proposed_by_condition.append(KLD(P_true, P_proposed))\n",
    "\n",
    "                pbar.update(1)\n",
    "                trial += 1\n",
    "            else:\n",
    "                print(\"バイアスサンプルの生成に失敗しました\")\n",
    "\n",
    "    # 提案手法と比較手法の結果を表示\n",
    "    print(f\"実験条件:{threshfold=}\")\n",
    "    print(\"サンプル平均P:\", np.mean(KL_list_sample_mean_by_condition))\n",
    "    print(\"最尤推定P:\", np.mean(KL_list_ML_by_condition))\n",
    "    print(\"提案手法P:\", np.mean(KL_list_proposed_by_condition))\n",
    "\n",
    "    KL_list.append([np.mean(KL_list_sample_mean_by_condition), np.mean(KL_list_ML_by_condition), np.mean(KL_list_proposed_by_condition)])\n",
    "KL_list"
   ]
  },
  {
   "cell_type": "code",
   "execution_count": 11,
   "metadata": {},
   "outputs": [
    {
     "data": {
      "image/png": "[encoded data removed]",
      "text/plain": [
       "<Figure size 1000x600 with 1 Axes>"
      ]
     },
     "metadata": {},
     "output_type": "display_data"
    },
    {
     "data": {
      "image/png": "[encoded data removed]",
      "text/plain": [
       "<Figure size 1000x600 with 1 Axes>"
      ]
     },
     "metadata": {},
     "output_type": "display_data"
    }
   ],
   "source": [
    "KL_list = np.array(KL_list).T\n",
    "label = [\"sample mean\", \"MLE\", \"Proposed\"]\n",
    "\n",
    "plt.figure(figsize=(10, 6))\n",
    "for i in range(3):\n",
    "    plt.plot(KL_list[i], marker='o', linestyle='-', label=label[i]) # マーカーを'o'に設定し、線種を'-'に設定\n",
    "plt.xlabel(\"sample size\")\n",
    "plt.ylabel(\"KL\")\n",
    "plt.legend()\n",
    "plt.title(\"KL divergence by sample size\")\n",
    "plt.show()\n",
    "\n",
    "plt.figure(figsize=(10, 6))\n",
    "for i in range(2):\n",
    "    plt.plot(KL_list[i+1], marker='o', linestyle='-', label=label[i+1]) # マーカーを'o'に設定し、線種を'-'に設定\n",
    "plt.xlabel(\"sample size\")\n",
    "plt.ylabel(\"KL\")\n",
    "plt.legend()\n",
    "plt.title(\"KL divergence by sample size\")\n",
    "plt.show()\n"
   ]
  },
  {
   "cell_type": "markdown",
   "metadata": {},
   "source": [
    "# $P_{prop}(Z|X)$"
   ]
  },
  {
   "cell_type": "code",
   "execution_count": 3,
   "metadata": {},
   "outputs": [
    {
     "name": "stderr",
     "output_type": "stream",
     "text": [
      "10it [00:28,  2.83s/it]\n"
     ]
    },
    {
     "name": "stdout",
     "output_type": "stream",
     "text": [
      "実験条件:threshfold=2\n",
      "サンプル平均P: 0.17577114398683225\n",
      "最尤推定P: 0.0016364765304346385\n",
      "提案手法P: 0.0009885504421584424\n"
     ]
    },
    {
     "name": "stderr",
     "output_type": "stream",
     "text": [
      "10it [00:58,  5.86s/it]\n"
     ]
    },
    {
     "name": "stdout",
     "output_type": "stream",
     "text": [
      "実験条件:threshfold=2\n",
      "サンプル平均P: 0.20598263727304184\n",
      "最尤推定P: 0.00322774771787685\n",
      "提案手法P: 0.0006547837164816661\n"
     ]
    },
    {
     "name": "stderr",
     "output_type": "stream",
     "text": [
      "10it [01:17,  7.79s/it]\n"
     ]
    },
    {
     "name": "stdout",
     "output_type": "stream",
     "text": [
      "実験条件:threshfold=2\n",
      "サンプル平均P: 0.1926230036985142\n",
      "最尤推定P: 0.00213828842467082\n",
      "提案手法P: 0.00034362214978578276\n"
     ]
    },
    {
     "name": "stderr",
     "output_type": "stream",
     "text": [
      "10it [01:59, 11.91s/it]\n"
     ]
    },
    {
     "name": "stdout",
     "output_type": "stream",
     "text": [
      "実験条件:threshfold=2\n",
      "サンプル平均P: 0.1960986926410477\n",
      "最尤推定P: 0.002159356480532948\n",
      "提案手法P: 0.00020264959855210708\n"
     ]
    },
    {
     "name": "stderr",
     "output_type": "stream",
     "text": [
      "10it [03:11, 19.15s/it]\n"
     ]
    },
    {
     "name": "stdout",
     "output_type": "stream",
     "text": [
      "実験条件:threshfold=2\n",
      "サンプル平均P: 0.2107134280273255\n",
      "最尤推定P: 0.002096543098382453\n",
      "提案手法P: 0.00018526157561616908\n"
     ]
    },
    {
     "name": "stderr",
     "output_type": "stream",
     "text": [
      "10it [04:21, 26.13s/it]\n"
     ]
    },
    {
     "name": "stdout",
     "output_type": "stream",
     "text": [
      "実験条件:threshfold=2\n",
      "サンプル平均P: 0.19824180069754482\n",
      "最尤推定P: 0.0021637083808590863\n",
      "提案手法P: 0.0001851202436781163\n"
     ]
    },
    {
     "name": "stderr",
     "output_type": "stream",
     "text": [
      "10it [05:52, 35.21s/it]\n"
     ]
    },
    {
     "name": "stdout",
     "output_type": "stream",
     "text": [
      "実験条件:threshfold=2\n",
      "サンプル平均P: 0.19912905066989267\n",
      "最尤推定P: 0.0024174515735908677\n",
      "提案手法P: 0.00012712497668476708\n"
     ]
    },
    {
     "name": "stderr",
     "output_type": "stream",
     "text": [
      "10it [07:51, 47.16s/it]\n"
     ]
    },
    {
     "name": "stdout",
     "output_type": "stream",
     "text": [
      "実験条件:threshfold=2\n",
      "サンプル平均P: 0.18872546496823056\n",
      "最尤推定P: 0.0023337049197249106\n",
      "提案手法P: 0.00025912558400724705\n"
     ]
    },
    {
     "name": "stderr",
     "output_type": "stream",
     "text": [
      "0it [00:00, ?it/s]"
     ]
    }
   ],
   "source": [
    "Ex_num = 10 # パラメータを生成する回数\n",
    "\n",
    "# 特徴量の数を設定\n",
    "n_features = 1\n",
    "\n",
    "# 特徴量の平均と標準偏差を設定\n",
    "X_mu = [0]\n",
    "X_sigma = [3]\n",
    "\n",
    "# パラメータの平均と標準偏差を設定\n",
    "beta_mu = [-2,4]\n",
    "beta_sigma = [0.5,0.5]\n",
    "\n",
    "threshfold = 2\n",
    "\n",
    "sample_size_list = np.linspace(100,1000,10).astype(int)\n",
    "\n",
    "KL_list = [] # 結果格納用 (threshfoldの数, 3)→ 標本平均, 比較手法，提案手法\n",
    "\n",
    "for sample_size in sample_size_list:\n",
    "\n",
    "    KL_list_proposed_by_condition = []\n",
    "    KL_list_sample_mean_by_condition = []\n",
    "    KL_list_ML_by_condition = []\n",
    "\n",
    "    trial = 0\n",
    "    with tqdm() as pbar:\n",
    "        while trial < Ex_num: # パラメータによるモンテカルロ平均（ベイズ最適な推定量）\n",
    "            # クラスをインスタンス化\n",
    "            generator = GenerateData_binomial(\n",
    "                n_features=n_features,\n",
    "                X_mu_list=X_mu,\n",
    "                X_sigma_list=X_sigma,\n",
    "                beta_mu=beta_mu, # beta_mu_matrixをbeta_muに変更\n",
    "                beta_sigma=beta_sigma # beta_sigma_matrixをbeta_sigmaに変更\n",
    "            )\n",
    "\n",
    "            # データを生成\n",
    "            X, y = generator.generate_non_bias_data()\n",
    "            X_bias, y_bias, _ = generator.generate_bias_data(n_samples=sample_size, X_features_bias= 1 , threshfold= threshfold,sample_type=\"prop\")\n",
    "\n",
    "            if (y_bias.mean() != 1) & (y_bias.mean() != 0): # 0と1両方あるサンプルが生成できた場合のみ計算を実行する\n",
    "\n",
    "                b_0 = np.array([0.001, 0.001])\n",
    "                B_0 = np.array([np.diag([10, 10])]) # B_0の形状を変更\n",
    "\n",
    "                burn = 5000\n",
    "                draw = 10000\n",
    "\n",
    "                # proposed_method_binomialのインスタンスを作成\n",
    "                method = proposed_method_binomial(X_bias, y_bias, b_0, B_0, X_mu, X_sigma, burn, draw) # proposed_methodをproposed_method_binomialに変更\n",
    "                compared_method = compared_methods(X_bias, y_bias, X_mu, X_sigma)\n",
    "\n",
    "                # sample_betaメソッドを実行\n",
    "                beta_posterior = method.sample_beta()\n",
    "\n",
    "                P_true = y.mean()\n",
    "                P_sample_mean = y_bias.mean()\n",
    "                P_ML = compared_method.maximum_likelihood(draw=draw)\n",
    "                P_proposed = method.estimate()\n",
    "\n",
    "                KL_list_sample_mean_by_condition.append(KLD(P_true, P_sample_mean))\n",
    "                KL_list_ML_by_condition.append(KLD(P_true, P_ML))\n",
    "                KL_list_proposed_by_condition.append(KLD(P_true, P_proposed))\n",
    "\n",
    "                pbar.update(1)\n",
    "                trial += 1\n",
    "            else:\n",
    "                print(\"バイアスサンプルの生成に失敗しました\")\n",
    "\n",
    "    # 提案手法と比較手法の結果を表示\n",
    "    print(f\"実験条件:{threshfold=}\")\n",
    "    print(\"サンプル平均P:\", np.mean(KL_list_sample_mean_by_condition))\n",
    "    print(\"最尤推定P:\", np.mean(KL_list_ML_by_condition))\n",
    "    print(\"提案手法P:\", np.mean(KL_list_proposed_by_condition))\n",
    "\n",
    "    KL_list.append([np.mean(KL_list_sample_mean_by_condition), np.mean(KL_list_ML_by_condition), np.mean(KL_list_proposed_by_condition)])\n",
    "KL_list"
   ]
  },
  {
   "cell_type": "code",
   "execution_count": null,
   "metadata": {},
   "outputs": [],
   "source": [
    "KL_list = np.array(KL_list).T\n",
    "label = [\"sample mean\", \"MLE\", \"Proposed\"]\n",
    "\n",
    "plt.figure(figsize=(10, 6))\n",
    "for i in range(3):\n",
    "    plt.plot(sample_size_list, KL_list[i], marker='o', linestyle='-', label=label[i]) # マーカーを'o'に設定し、線種を'-'に設定\n",
    "plt.xlabel(\"sample size $n$\")\n",
    "plt.ylabel(\"BayesRisk(average KL divergence)\")\n",
    "plt.legend()\n",
    "plt.title(\"BayesRisk(average KL divergence) by sample size: $P_{prop}(Z|X)$\")\n",
    "plt.show()\n",
    "\n",
    "plt.figure(figsize=(10, 6))\n",
    "for i in range(2):\n",
    "    plt.plot(sample_size_list, KL_list[i+1], marker='o', linestyle='-', label=label[i+1]) # マーカーを'o'に設定し、線種を'-'に設定\n",
    "plt.xlabel(\"sample size $n$\")\n",
    "plt.ylabel(\"BayesRisk(average KL divergence)\")\n",
    "plt.legend()\n",
    "plt.title(\"BayesRisk(average KL divergence) by sample size: $P_{prop}(Z|X)$\")\n",
    "plt.show()"
   ]
  },
  {
   "cell_type": "markdown",
   "metadata": {},
   "source": [
    "# $P_{peak}(Z|X)$"
   ]
  },
  {
   "cell_type": "code",
   "execution_count": null,
   "metadata": {},
   "outputs": [],
   "source": [
    "Ex_num = 10 # パラメータを生成する回数\n",
    "\n",
    "# 特徴量の数を設定\n",
    "n_features = 1\n",
    "\n",
    "# 特徴量の平均と標準偏差を設定\n",
    "X_mu = [0]\n",
    "X_sigma = [3]\n",
    "\n",
    "# パラメータの平均と標準偏差を設定\n",
    "beta_mu = [-2,4]\n",
    "beta_sigma = [0.5,0.5]\n",
    "\n",
    "threshfold = 2\n",
    "\n",
    "sample_size_list = np.linspace(100,1000,10).astype(int)\n",
    "\n",
    "KL_list = [] # 結果格納用 (threshfoldの数, 3)→ 標本平均, 比較手法，提案手法\n",
    "\n",
    "for sample_size in sample_size_list:\n",
    "\n",
    "    KL_list_proposed_by_condition = []\n",
    "    KL_list_sample_mean_by_condition = []\n",
    "    KL_list_ML_by_condition = []\n",
    "\n",
    "    trial = 0\n",
    "    with tqdm() as pbar:\n",
    "        while trial < Ex_num: # パラメータによるモンテカルロ平均（ベイズ最適な推定量）\n",
    "            # クラスをインスタンス化\n",
    "            generator = GenerateData_binomial(\n",
    "                n_features=n_features,\n",
    "                X_mu_list=X_mu,\n",
    "                X_sigma_list=X_sigma,\n",
    "                beta_mu=beta_mu, # beta_mu_matrixをbeta_muに変更\n",
    "                beta_sigma=beta_sigma # beta_sigma_matrixをbeta_sigmaに変更\n",
    "            )\n",
    "\n",
    "            # データを生成\n",
    "            X, y = generator.generate_non_bias_data()\n",
    "            X_bias, y_bias, _ = generator.generate_bias_data(n_samples=sample_size, X_features_bias= 1 , threshfold= threshfold,sample_type=\"norm\")\n",
    "\n",
    "            if (y_bias.mean() != 1) & (y_bias.mean() != 0): # 0と1両方あるサンプルが生成できた場合のみ計算を実行する\n",
    "\n",
    "                b_0 = np.array([0.001, 0.001])\n",
    "                B_0 = np.array([np.diag([10, 10])]) # B_0の形状を変更\n",
    "\n",
    "                burn = 5000\n",
    "                draw = 10000\n",
    "\n",
    "                # proposed_method_binomialのインスタンスを作成\n",
    "                method = proposed_method_binomial(X_bias, y_bias, b_0, B_0, X_mu, X_sigma, burn, draw) # proposed_methodをproposed_method_binomialに変更\n",
    "                compared_method = compared_methods(X_bias, y_bias, X_mu, X_sigma)\n",
    "\n",
    "                # sample_betaメソッドを実行\n",
    "                beta_posterior = method.sample_beta()\n",
    "\n",
    "                P_true = y.mean()\n",
    "                P_sample_mean = y_bias.mean()\n",
    "                P_ML = compared_method.maximum_likelihood(draw=draw)\n",
    "                P_proposed = method.estimate()\n",
    "\n",
    "                KL_list_sample_mean_by_condition.append(KLD(P_true, P_sample_mean))\n",
    "                KL_list_ML_by_condition.append(KLD(P_true, P_ML))\n",
    "                KL_list_proposed_by_condition.append(KLD(P_true, P_proposed))\n",
    "\n",
    "                pbar.update(1)\n",
    "                trial += 1\n",
    "            else:\n",
    "                print(\"バイアスサンプルの生成に失敗しました\")\n",
    "\n",
    "    # 提案手法と比較手法の結果を表示\n",
    "    print(f\"実験条件:{threshfold=}\")\n",
    "    print(\"サンプル平均P:\", np.mean(KL_list_sample_mean_by_condition))\n",
    "    print(\"最尤推定P:\", np.mean(KL_list_ML_by_condition))\n",
    "    print(\"提案手法P:\", np.mean(KL_list_proposed_by_condition))\n",
    "\n",
    "    KL_list.append([np.mean(KL_list_sample_mean_by_condition), np.mean(KL_list_ML_by_condition), np.mean(KL_list_proposed_by_condition)])\n",
    "KL_list"
   ]
  },
  {
   "cell_type": "code",
   "execution_count": null,
   "metadata": {},
   "outputs": [],
   "source": [
    "KL_list = np.array(KL_list).T\n",
    "label = [\"sample mean\", \"MLE\", \"Proposed\"]\n",
    "\n",
    "plt.figure(figsize=(10, 6))\n",
    "for i in range(3):\n",
    "    plt.plot(sample_size_list, KL_list[i], marker='o', linestyle='-', label=label[i]) # マーカーを'o'に設定し、線種を'-'に設定\n",
    "plt.xlabel(\"sample size $n$\")\n",
    "plt.ylabel(\"BayesRisk(average KL divergence)\")\n",
    "plt.legend()\n",
    "plt.title(\"BayesRisk(average KL divergence) by sample size: $P_{peak}(Z|X)$\")\n",
    "plt.show()\n",
    "\n",
    "plt.figure(figsize=(10, 6))\n",
    "for i in range(2):\n",
    "    plt.plot(sample_size_list, KL_list[i+1], marker='o', linestyle='-', label=label[i+1]) # マーカーを'o'に設定し、線種を'-'に設定\n",
    "plt.xlabel(\"sample size $n$\")\n",
    "plt.ylabel(\"BayesRisk(average KL divergence)\")\n",
    "plt.legend()\n",
    "plt.title(\"BayesRisk(average KL divergence) by sample size: $P_{peak}(Z|X)$\")\n",
    "plt.show()"
   ]
  }
 ],
 "metadata": {
  "kernelspec": {
   "display_name": ".venv",
   "language": "python",
   "name": "python3"
  },
  "language_info": {
   "codemirror_mode": {
    "name": "ipython",
    "version": 3
   },
   "file_extension": ".py",
   "mimetype": "text/x-python",
   "name": "python",
   "nbconvert_exporter": "python",
   "pygments_lexer": "ipython3",
   "version": "3.12.6"
  }
 },
 "nbformat": 4,
 "nbformat_minor": 2
}
