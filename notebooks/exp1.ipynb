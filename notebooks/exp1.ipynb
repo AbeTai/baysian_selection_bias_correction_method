{
 "cells": [
  {
   "cell_type": "markdown",
   "metadata": {},
   "source": [
    "# 各サンプルにおけるベイズ最適性の確認"
   ]
  },
  {
   "cell_type": "code",
   "execution_count": 1,
   "metadata": {},
   "outputs": [
    {
     "ename": "ImportError",
     "evalue": "cannot import name 'generate_data' from 'utils.generate' (/Users/abetaichi/master/Lab/research/selection_bias/for_paper/src/utils/generate.py)",
     "output_type": "error",
     "traceback": [
      "\u001b[0;31m---------------------------------------------------------------------------\u001b[0m",
      "\u001b[0;31mImportError\u001b[0m                               Traceback (most recent call last)",
      "Cell \u001b[0;32mIn[1], line 9\u001b[0m\n\u001b[1;32m      7\u001b[0m \u001b[38;5;28;01mfrom\u001b[39;00m \u001b[38;5;21;01msklearn\u001b[39;00m\u001b[38;5;21;01m.\u001b[39;00m\u001b[38;5;21;01mlinear_model\u001b[39;00m \u001b[38;5;28;01mimport\u001b[39;00m LogisticRegression\n\u001b[1;32m      8\u001b[0m \u001b[38;5;28;01mfrom\u001b[39;00m \u001b[38;5;21;01mpolyagamma\u001b[39;00m \u001b[38;5;28;01mimport\u001b[39;00m random_polyagamma\n\u001b[0;32m----> 9\u001b[0m \u001b[38;5;28;01mfrom\u001b[39;00m \u001b[38;5;21;01mutils\u001b[39;00m\u001b[38;5;21;01m.\u001b[39;00m\u001b[38;5;21;01mgenerate\u001b[39;00m \u001b[38;5;28;01mimport\u001b[39;00m generate_data\n\u001b[1;32m     10\u001b[0m \u001b[38;5;28;01mfrom\u001b[39;00m \u001b[38;5;21;01mutils\u001b[39;00m\u001b[38;5;21;01m.\u001b[39;00m\u001b[38;5;21;01mmetrics\u001b[39;00m \u001b[38;5;28;01mimport\u001b[39;00m KLD\n\u001b[1;32m     11\u001b[0m \u001b[38;5;28;01mfrom\u001b[39;00m \u001b[38;5;21;01mmodels\u001b[39;00m\u001b[38;5;21;01m.\u001b[39;00m\u001b[38;5;21;01mproposed_method\u001b[39;00m \u001b[38;5;28;01mimport\u001b[39;00m proposed_method\n",
      "\u001b[0;31mImportError\u001b[0m: cannot import name 'generate_data' from 'utils.generate' (/Users/abetaichi/master/Lab/research/selection_bias/for_paper/src/utils/generate.py)"
     ]
    }
   ],
   "source": [
    "import pandas as pd\n",
    "import numpy as np\n",
    "import matplotlib.pyplot as plt\n",
    "from scipy import stats\n",
    "from tqdm import tqdm\n",
    "from scipy.stats import entropy\n",
    "from sklearn.linear_model import LogisticRegression\n",
    "from polyagamma import random_polyagamma\n",
    "from utils.generate import generate_data\n",
    "from utils.metrics import KLD\n",
    "from models.proposed_method import proposed_method\n",
    "from models.compared_methods import compared_methods"
   ]
  },
  {
   "cell_type": "code",
   "execution_count": 88,
   "metadata": {},
   "outputs": [],
   "source": [
    "import warnings\n",
    "warnings.filterwarnings('ignore')"
   ]
  },
  {
   "cell_type": "code",
   "execution_count": 55,
   "metadata": {},
   "outputs": [
    {
     "name": "stdout",
     "output_type": "stream",
     "text": [
      "真のP_y: 0.8578152\n",
      "提案手法によるP_y: 0.8629875505564821\n",
      "標本平均によるP_y: 0.72\n",
      "最尤法によるP_y: 0.8429683287786903\n"
     ]
    },
    {
     "data": {
      "text/plain": [
       "np.float64(0.0008787283720850247)"
      ]
     },
     "execution_count": 55,
     "metadata": {},
     "output_type": "execute_result"
    }
   ],
   "source": [
    "# パラメータ設定\n",
    "n_samples = 100  # サンプルサイズ\n",
    "n_features = 1  # 特徴量数（切片除く）\n",
    "X_mu_list = [10]  # 各特徴量の平均\n",
    "X_sigma_list = [10]  # 各特徴量の標準偏差\n",
    "beta_mu_list = [1, 1]  # パラメータの平均 (切片を含む)\n",
    "beta_sigma_list = [0.1, 0.1]  # パラメータの標準偏差 (切片を含む)\n",
    "\n",
    "X_feature_bias = 1 # 0は切片\n",
    "center_of_sampling = 0\n",
    "window_size = 3\n",
    "\n",
    "# データ生成\n",
    "data_generator = generate_data(n_features, X_mu_list, X_sigma_list, beta_mu_list, beta_sigma_list)\n",
    "X, y = data_generator.generate_non_bias_data()\n",
    "X_bias, y_bias = data_generator.generate_bias_data_deterministic(n_samples, X_feature_bias, center_of_sampling, window_size)\n",
    "P_true = y.mean()\n",
    "\n",
    "# P_yの推定\n",
    "b_0 = np.array([0.001,0.001])\n",
    "B_0 = np.array([[100,0],\n",
    "                [0,100]])\n",
    "burn=5000\n",
    "draw=10000\n",
    "\n",
    "proposed_model = proposed_method(X=X_bias, y=y_bias, b_0=b_0, B_0=B_0, X_mu=X_mu_list, X_sigma=X_sigma_list, burn=burn, draw=draw)\n",
    "_ = proposed_model.sample_beta() # バーンインも含まれるので注意\n",
    "P_y_proposed = proposed_model.estimate()\n",
    "\n",
    "compared_model = compared_methods(X=X_bias, y=y_bias, X_mu=X_mu_list, X_sigma=X_sigma_list)\n",
    "P_y_sample_mean = compared_model.sample_mean()\n",
    "P_y_ML = compared_model.maximum_likelihood(draw)\n",
    "\n",
    "print(f\"真のP_y: {P_true}\")\n",
    "print(f\"提案手法によるP_y: {P_y_proposed}\")\n",
    "print(f\"標本平均によるP_y: {P_y_sample_mean}\")\n",
    "print(f\"最尤法によるP_y: {P_y_ML}\")\n",
    "KLD(P_true, P_y_ML)"
   ]
  },
  {
   "cell_type": "code",
   "execution_count": 89,
   "metadata": {},
   "outputs": [
    {
     "name": "stdout",
     "output_type": "stream",
     "text": [
      "-----------start-----------\n",
      "共変量の母平均:-5\n",
      "サンプリングの範囲-10.0〜0.0\n",
      "---------------------------\n"
     ]
    },
    {
     "name": "stderr",
     "output_type": "stream",
     "text": [
      "100it [04:16,  2.56s/it]\n"
     ]
    },
    {
     "name": "stdout",
     "output_type": "stream",
     "text": [
      "Yの母平均:0.7364772\n",
      "提案の平均KL:0.008560724197854521\n",
      "標本平均の平均KL:0.18035477288776325\n",
      "最尤推定の平均KL:0.0153282267714156\n",
      "-----------start-----------\n",
      "共変量の母平均:-5\n",
      "サンプリングの範囲-7.5〜2.5\n",
      "---------------------------\n"
     ]
    },
    {
     "name": "stderr",
     "output_type": "stream",
     "text": [
      "100it [03:12,  1.92s/it]\n"
     ]
    },
    {
     "name": "stdout",
     "output_type": "stream",
     "text": [
      "Yの母平均:0.615609\n",
      "提案の平均KL:0.003896342526501822\n",
      "標本平均の平均KL:0.10654583307091794\n",
      "最尤推定の平均KL:0.0063520816719622245\n",
      "-----------start-----------\n",
      "共変量の母平均:-5\n",
      "サンプリングの範囲-5.0〜5.0\n",
      "---------------------------\n"
     ]
    },
    {
     "name": "stderr",
     "output_type": "stream",
     "text": [
      "100it [03:07,  1.87s/it]\n"
     ]
    },
    {
     "name": "stdout",
     "output_type": "stream",
     "text": [
      "Yの母平均:0.3345332\n",
      "提案の平均KL:0.005984269555752129\n",
      "標本平均の平均KL:0.08589787675260929\n",
      "最尤推定の平均KL:0.0065017280494835995\n",
      "-----------start-----------\n",
      "共変量の母平均:-5\n",
      "サンプリングの範囲-2.5〜7.5\n",
      "---------------------------\n"
     ]
    },
    {
     "name": "stderr",
     "output_type": "stream",
     "text": [
      "100it [03:24,  2.05s/it]\n"
     ]
    },
    {
     "name": "stdout",
     "output_type": "stream",
     "text": [
      "Yの母平均:0.312193\n",
      "提案の平均KL:0.011352149252264307\n",
      "標本平均の平均KL:0.5556643693032477\n",
      "最尤推定の平均KL:0.007649318731000137\n",
      "-----------start-----------\n",
      "共変量の母平均:-5\n",
      "サンプリングの範囲0.0〜10.0\n",
      "---------------------------\n"
     ]
    },
    {
     "name": "stderr",
     "output_type": "stream",
     "text": [
      "100it [04:13,  2.53s/it]\n"
     ]
    },
    {
     "name": "stdout",
     "output_type": "stream",
     "text": [
      "Yの母平均:0.4054461\n",
      "提案の平均KL:0.045725360100181564\n",
      "標本平均の平均KL:0.7033534477470499\n",
      "最尤推定の平均KL:0.04047921777237562\n",
      "-----------start-----------\n",
      "共変量の母平均:-2\n",
      "サンプリングの範囲-10.0〜0.0\n",
      "---------------------------\n"
     ]
    },
    {
     "name": "stderr",
     "output_type": "stream",
     "text": [
      "100it [04:28,  2.69s/it]\n"
     ]
    },
    {
     "name": "stdout",
     "output_type": "stream",
     "text": [
      "Yの母平均:0.2452451\n",
      "提案の平均KL:0.017024167380993535\n",
      "標本平均の平均KL:0.2508835052515221\n",
      "最尤推定の平均KL:0.01505757330935884\n",
      "-----------start-----------\n",
      "共変量の母平均:-2\n",
      "サンプリングの範囲-7.5〜2.5\n",
      "---------------------------\n"
     ]
    },
    {
     "name": "stderr",
     "output_type": "stream",
     "text": [
      "100it [03:18,  1.99s/it]\n"
     ]
    },
    {
     "name": "stdout",
     "output_type": "stream",
     "text": [
      "Yの母平均:0.4382171\n",
      "提案の平均KL:0.006112264394918502\n",
      "標本平均の平均KL:0.19217496426087533\n",
      "最尤推定の平均KL:0.01074358245540502\n",
      "-----------start-----------\n",
      "共変量の母平均:-2\n",
      "サンプリングの範囲-5.0〜5.0\n",
      "---------------------------\n"
     ]
    },
    {
     "name": "stderr",
     "output_type": "stream",
     "text": [
      "100it [03:15,  1.95s/it]\n"
     ]
    },
    {
     "name": "stdout",
     "output_type": "stream",
     "text": [
      "Yの母平均:0.4219724\n",
      "提案の平均KL:0.0012783000350758468\n",
      "標本平均の平均KL:0.0455803773977215\n",
      "最尤推定の平均KL:0.001832892108135481\n",
      "-----------start-----------\n",
      "共変量の母平均:-2\n",
      "サンプリングの範囲-2.5〜7.5\n",
      "---------------------------\n"
     ]
    },
    {
     "name": "stderr",
     "output_type": "stream",
     "text": [
      "100it [03:15,  1.96s/it]\n"
     ]
    },
    {
     "name": "stdout",
     "output_type": "stream",
     "text": [
      "Yの母平均:0.4690987\n",
      "提案の平均KL:0.006296672441668125\n",
      "標本平均の平均KL:0.33594979616820453\n",
      "最尤推定の平均KL:0.007773972262532633\n",
      "-----------start-----------\n",
      "共変量の母平均:-2\n",
      "サンプリングの範囲0.0〜10.0\n",
      "---------------------------\n"
     ]
    },
    {
     "name": "stderr",
     "output_type": "stream",
     "text": [
      "100it [04:14,  2.55s/it]\n"
     ]
    },
    {
     "name": "stdout",
     "output_type": "stream",
     "text": [
      "Yの母平均:0.3201726\n",
      "提案の平均KL:0.0314732710258889\n",
      "標本平均の平均KL:0.5040787015593422\n",
      "最尤推定の平均KL:0.023596109066306967\n",
      "-----------start-----------\n",
      "共変量の母平均:0\n",
      "サンプリングの範囲-10.0〜0.0\n",
      "---------------------------\n"
     ]
    },
    {
     "name": "stderr",
     "output_type": "stream",
     "text": [
      "100it [07:20,  4.40s/it]\n"
     ]
    },
    {
     "name": "stdout",
     "output_type": "stream",
     "text": [
      "Yの母平均:0.6333818\n",
      "提案の平均KL:0.021090707942822372\n",
      "標本平均の平均KL:0.34999199952430404\n",
      "最尤推定の平均KL:0.0161699263557516\n",
      "-----------start-----------\n",
      "共変量の母平均:0\n",
      "サンプリングの範囲-7.5〜2.5\n",
      "---------------------------\n"
     ]
    },
    {
     "name": "stderr",
     "output_type": "stream",
     "text": [
      "100it [10:32,  6.32s/it]\n"
     ]
    },
    {
     "name": "stdout",
     "output_type": "stream",
     "text": [
      "Yの母平均:0.4667426\n",
      "提案の平均KL:0.007695624194825724\n",
      "標本平均の平均KL:0.292171851800936\n",
      "最尤推定の平均KL:0.0074479964037412714\n",
      "-----------start-----------\n",
      "共変量の母平均:0\n",
      "サンプリングの範囲-5.0〜5.0\n",
      "---------------------------\n"
     ]
    },
    {
     "name": "stderr",
     "output_type": "stream",
     "text": [
      "100it [02:04,  1.24s/it]\n"
     ]
    },
    {
     "name": "stdout",
     "output_type": "stream",
     "text": [
      "Yの母平均:0.5348019\n",
      "提案の平均KL:0.002057632701594009\n",
      "標本平均の平均KL:0.025075699270727315\n",
      "最尤推定の平均KL:0.0035197943434563017\n",
      "-----------start-----------\n",
      "共変量の母平均:0\n",
      "サンプリングの範囲-2.5〜7.5\n",
      "---------------------------\n"
     ]
    },
    {
     "name": "stderr",
     "output_type": "stream",
     "text": [
      "100it [02:04,  1.25s/it]\n"
     ]
    },
    {
     "name": "stdout",
     "output_type": "stream",
     "text": [
      "Yの母平均:0.5326742\n",
      "提案の平均KL:0.005788655573069825\n",
      "標本平均の平均KL:0.2722633812704919\n",
      "最尤推定の平均KL:0.00446698764109163\n",
      "-----------start-----------\n",
      "共変量の母平均:0\n",
      "サンプリングの範囲0.0〜10.0\n",
      "---------------------------\n"
     ]
    },
    {
     "name": "stderr",
     "output_type": "stream",
     "text": [
      "100it [02:41,  1.62s/it]\n"
     ]
    },
    {
     "name": "stdout",
     "output_type": "stream",
     "text": [
      "Yの母平均:0.4259074\n",
      "提案の平均KL:0.022977861996382073\n",
      "標本平均の平均KL:0.38623665543598257\n",
      "最尤推定の平均KL:0.018613514088367446\n",
      "-----------start-----------\n",
      "共変量の母平均:2\n",
      "サンプリングの範囲-10.0〜0.0\n",
      "---------------------------\n"
     ]
    },
    {
     "name": "stderr",
     "output_type": "stream",
     "text": [
      "100it [02:50,  1.71s/it]\n"
     ]
    },
    {
     "name": "stdout",
     "output_type": "stream",
     "text": [
      "Yの母平均:0.645536\n",
      "提案の平均KL:0.04443182739008284\n",
      "標本平均の平均KL:0.5055560616489574\n",
      "最尤推定の平均KL:0.03188650924619945\n",
      "-----------start-----------\n",
      "共変量の母平均:2\n",
      "サンプリングの範囲-7.5〜2.5\n",
      "---------------------------\n"
     ]
    },
    {
     "name": "stderr",
     "output_type": "stream",
     "text": [
      "100it [02:01,  1.22s/it]\n"
     ]
    },
    {
     "name": "stdout",
     "output_type": "stream",
     "text": [
      "Yの母平均:0.5796775\n",
      "提案の平均KL:0.010783317803934515\n",
      "標本平均の平均KL:0.3281100785422042\n",
      "最尤推定の平均KL:0.011822725498947135\n",
      "-----------start-----------\n",
      "共変量の母平均:2\n",
      "サンプリングの範囲-5.0〜5.0\n",
      "---------------------------\n"
     ]
    },
    {
     "name": "stderr",
     "output_type": "stream",
     "text": [
      "100it [02:01,  1.22s/it]\n"
     ]
    },
    {
     "name": "stdout",
     "output_type": "stream",
     "text": [
      "Yの母平均:0.5552469\n",
      "提案の平均KL:0.0013341664902667577\n",
      "標本平均の平均KL:0.03682734059367565\n",
      "最尤推定の平均KL:0.0036173937450601\n",
      "-----------start-----------\n",
      "共変量の母平均:2\n",
      "サンプリングの範囲-2.5〜7.5\n",
      "---------------------------\n"
     ]
    },
    {
     "name": "stderr",
     "output_type": "stream",
     "text": [
      "100it [02:02,  1.23s/it]\n"
     ]
    },
    {
     "name": "stdout",
     "output_type": "stream",
     "text": [
      "Yの母平均:0.4986023\n",
      "提案の平均KL:0.004878727870061989\n",
      "標本平均の平均KL:0.18149020696950555\n",
      "最尤推定の平均KL:0.005445683469834418\n",
      "-----------start-----------\n",
      "共変量の母平均:2\n",
      "サンプリングの範囲0.0〜10.0\n",
      "---------------------------\n"
     ]
    },
    {
     "name": "stderr",
     "output_type": "stream",
     "text": [
      "100it [02:39,  1.59s/it]\n"
     ]
    },
    {
     "name": "stdout",
     "output_type": "stream",
     "text": [
      "Yの母平均:0.2361897\n",
      "提案の平均KL:0.018918892595620462\n",
      "標本平均の平均KL:0.30562840240016337\n",
      "最尤推定の平均KL:0.011944496418086264\n",
      "-----------start-----------\n",
      "共変量の母平均:5\n",
      "サンプリングの範囲-10.0〜0.0\n",
      "---------------------------\n"
     ]
    },
    {
     "name": "stderr",
     "output_type": "stream",
     "text": [
      "100it [02:34,  1.55s/it]\n"
     ]
    },
    {
     "name": "stdout",
     "output_type": "stream",
     "text": [
      "Yの母平均:0.6733987\n",
      "提案の平均KL:0.07414658628258515\n",
      "標本平均の平均KL:0.7283911184592027\n",
      "最尤推定の平均KL:0.058008848689899306\n",
      "-----------start-----------\n",
      "共変量の母平均:5\n",
      "サンプリングの範囲-7.5〜2.5\n",
      "---------------------------\n"
     ]
    },
    {
     "name": "stderr",
     "output_type": "stream",
     "text": [
      "100it [02:00,  1.20s/it]\n"
     ]
    },
    {
     "name": "stdout",
     "output_type": "stream",
     "text": [
      "Yの母平均:0.6773572\n",
      "提案の平均KL:0.025242993537757403\n",
      "標本平均の平均KL:0.5596931404432007\n",
      "最尤推定の平均KL:0.02409673969188047\n",
      "-----------start-----------\n",
      "共変量の母平均:5\n",
      "サンプリングの範囲-5.0〜5.0\n",
      "---------------------------\n"
     ]
    },
    {
     "name": "stderr",
     "output_type": "stream",
     "text": [
      "100it [01:59,  1.19s/it]\n"
     ]
    },
    {
     "name": "stdout",
     "output_type": "stream",
     "text": [
      "Yの母平均:0.6938805\n",
      "提案の平均KL:0.005314140884116838\n",
      "標本平均の平均KL:0.07259859220656542\n",
      "最尤推定の平均KL:0.008601833138676629\n",
      "-----------start-----------\n",
      "共変量の母平均:5\n",
      "サンプリングの範囲-2.5〜7.5\n",
      "---------------------------\n"
     ]
    },
    {
     "name": "stderr",
     "output_type": "stream",
     "text": [
      "100it [01:58,  1.19s/it]\n"
     ]
    },
    {
     "name": "stdout",
     "output_type": "stream",
     "text": [
      "Yの母平均:0.7132894\n",
      "提案の平均KL:0.002720231572205796\n",
      "標本平均の平均KL:0.09350293914119344\n",
      "最尤推定の平均KL:0.0071510518271539845\n",
      "-----------start-----------\n",
      "共変量の母平均:5\n",
      "サンプリングの範囲0.0〜10.0\n",
      "---------------------------\n"
     ]
    },
    {
     "name": "stderr",
     "output_type": "stream",
     "text": [
      "100it [02:48,  1.69s/it]"
     ]
    },
    {
     "name": "stdout",
     "output_type": "stream",
     "text": [
      "Yの母平均:0.6663977\n",
      "提案の平均KL:0.009285538833194839\n",
      "標本平均の平均KL:0.15921833966424434\n",
      "最尤推定の平均KL:0.012947286427712552\n"
     ]
    },
    {
     "name": "stderr",
     "output_type": "stream",
     "text": [
      "\n"
     ]
    }
   ],
   "source": [
    "# パラメータを母集団分布から生成してKL計算して...を指定の回数繰り返す\n",
    "## 実験パターン：Xの母平均，サンプリング位置\n",
    "\n",
    "Ex_num = 100 # パラメータを生成する回数\n",
    "X_mu_cands = [-5,-2,0,2,5] # Xの母平均リスト\n",
    "Center_num = 5 # サンプリング位置（個数を指定して自動生成）\n",
    "\n",
    "\n",
    "# 実験設定（全パターン共通）\n",
    "n_samples = 100  # サンプルサイズ\n",
    "n_features = 1  # 特徴量数（切片除く）\n",
    "X_sigma_list = [10]  # 各特徴量の標準偏差\n",
    "beta_mu_list = [0, 1]  # パラメータの平均 (切片を含む)\n",
    "beta_sigma_list = [1, 1]  # パラメータの標準偏差 (切片を含む)\n",
    "\n",
    "X_feature_bias = 1 # 0は切片\n",
    "window_size = X_sigma_list[0] / 2\n",
    "\n",
    "# P_yの推定\n",
    "b_0 = np.array([0.001,0.001])\n",
    "B_0 = np.array([[100,0],\n",
    "                [0,100]])\n",
    "burn=2000\n",
    "draw=5000\n",
    "\n",
    "for X_mu in X_mu_cands: # Xの母平均を変更\n",
    "    #lower = X_mu - X_sigma_list[0] / 2\n",
    "    #upper = X_mu + X_sigma_list[0] / 2\n",
    "    lower = -5\n",
    "    upper = 5\n",
    "    center_list = np.linspace(lower, upper, Center_num)\n",
    "    KL_list_proposed = []\n",
    "    KL_list_sample_mean = []\n",
    "    KL_list_ML = []\n",
    "\n",
    "    for center in center_list: # サンプリング位置を変更\n",
    "        KL_list_proposed_by_center = []\n",
    "        KL_list_sample_mean_by_center = []\n",
    "        KL_list_ML_by_center = []\n",
    "        # 結果の表示\n",
    "        print(\"-----------start-----------\")\n",
    "        print(f\"共変量の母平均:{X_mu}\")\n",
    "        print(f\"サンプリングの範囲{center-window_size}〜{center+window_size}\")\n",
    "        print(\"---------------------------\")\n",
    "\n",
    "        trial = 0 # KL計算に成功した回数（0と1を両方含むデータ生成に成功した回数）→Ex_numに到達したら終わり\n",
    "        with tqdm() as pbar:\n",
    "            while trial < Ex_num: # パラメータによるモンテカルロ平均（ベイズ最適な推定量）\n",
    "                # データの生成\n",
    "                X_mu_list = [X_mu] # リスト形式なので，リストに変更（あとで修正）\n",
    "                data_generator = generate_data(n_features, X_mu_list, X_sigma_list, beta_mu_list, beta_sigma_list)\n",
    "                X, y = data_generator.generate_non_bias_data()\n",
    "                X_bias, y_bias = data_generator.generate_bias_data_deterministic(n_samples, X_feature_bias, center, window_size)\n",
    "\n",
    "                # KLの計算\n",
    "                P_true = y.mean() # 真のP\n",
    "                P_bias_true = y_bias.mean()\n",
    "\n",
    "                if (P_bias_true != 1) & (P_bias_true != 0):\n",
    "\n",
    "                    proposed_model = proposed_method(X=X_bias, y=y_bias, b_0=b_0, B_0=B_0, X_mu=X_mu_list, X_sigma=X_sigma_list, burn=burn, draw=draw)\n",
    "                    _ = proposed_model.sample_beta() # バーンインも含まれるので注意\n",
    "                    P_y_proposed = proposed_model.estimate() # 提案によるP\n",
    "\n",
    "                    compared_model = compared_methods(X=X_bias, y=y_bias, X_mu=X_mu_list, X_sigma=X_sigma_list)\n",
    "                    P_y_sample_mean = compared_model.sample_mean() # 標本平均によるP\n",
    "                    P_y_ML = compared_model.maximum_likelihood(draw) # 最尤推定によるP\n",
    "\n",
    "                    KL_list_proposed_by_center.append(KLD(P_true, P_y_proposed))\n",
    "                    KL_list_sample_mean_by_center.append(KLD(P_true, P_y_sample_mean))\n",
    "                    KL_list_ML_by_center.append(KLD(P_true, P_y_ML))\n",
    "\n",
    "                    pbar.update(1)\n",
    "                    trial += 1\n",
    "                else:\n",
    "                    pass\n",
    "        \n",
    "        print(f\"Yの母平均:{np.mean(y)}\")\n",
    "        print(f\"提案の平均KL:{np.mean(KL_list_proposed_by_center)}\")\n",
    "        print(f\"標本平均の平均KL:{np.mean(KL_list_sample_mean_by_center)}\")\n",
    "        print(f\"最尤推定の平均KL:{np.mean(KL_list_ML_by_center)}\")\n",
    "    \n",
    "        KL_list_proposed.append(np.mean(KL_list_proposed_by_center))\n",
    "        KL_list_sample_mean.append(np.mean(KL_list_sample_mean_by_center))\n",
    "        KL_list_ML.append(np.mean(KL_list_ML_by_center))\n",
    "\n",
    "    # グラフ描画\n",
    "    plt.plot(center_list, KL_list_proposed, label=\"Proposed method\", color = \"red\",marker='*',markersize=12)\n",
    "    plt.plot(center_list, KL_list_sample_mean, label=\"sample mean\", color = \"blue\",marker='.',markersize=12)\n",
    "    plt.plot(center_list, KL_list_ML, label=\"Maximum Likelihood\", color = \"green\",marker='o',markersize=12)\n",
    "\n",
    "    plt.title(f\"X_mu:{X_mu}, X_sigma:{X_sigma_list[0]}, β0:N({beta_mu_list[0]},{beta_sigma_list[0]}), β1:N({beta_mu_list[0]},{beta_sigma_list[0]})\", fontsize = 12)\n",
    "    plt.xlabel(\"center of sampling\", fontsize = 12)\n",
    "    plt.ylabel(\"BayesRisk(Average KL Divergence)\", fontsize = 12)\n",
    "    plt.xlim(lower-0.5, upper+0.5)\n",
    "    plt.legend(bbox_to_anchor=(0.99, 0.99), loc='upper right', borderaxespad=0, fontsize=12)\n",
    "\n",
    "    save_dir = \"../results/fig\"\n",
    "    plt.savefig(f\"{save_dir}/BayesRisk_Xmu_{X_mu}.png\")\n",
    "    plt.close()"
   ]
  },
  {
   "cell_type": "code",
   "execution_count": 90,
   "metadata": {},
   "outputs": [
    {
     "data": {
      "text/plain": [
       "0.09302325581395349"
      ]
     },
     "execution_count": 90,
     "metadata": {},
     "output_type": "execute_result"
    }
   ],
   "source": [
    "17/43 - 13/43"
   ]
  },
  {
   "cell_type": "code",
   "execution_count": null,
   "metadata": {},
   "outputs": [],
   "source": []
  }
 ],
 "metadata": {
  "kernelspec": {
   "display_name": ".venv",
   "language": "python",
   "name": "python3"
  },
  "language_info": {
   "codemirror_mode": {
    "name": "ipython",
    "version": 3
   },
   "file_extension": ".py",
   "mimetype": "text/x-python",
   "name": "python",
   "nbconvert_exporter": "python",
   "pygments_lexer": "ipython3",
   "version": "3.12.6"
  }
 },
 "nbformat": 4,
 "nbformat_minor": 2
}
